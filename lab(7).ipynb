{
 "cells": [
  {
   "cell_type": "code",
   "execution_count": 6,
   "metadata": {},
   "outputs": [
    {
     "name": "stdout",
     "output_type": "stream",
     "text": [
      "Product (prod):\n",
      "0.002780019770783062\n",
      "\n",
      "Multiplication (multiply):\n",
      "[[0.35786506 0.07082871 0.05194582]\n",
      " [0.07103165 0.69114687 0.64449619]\n",
      " [0.30826724 0.12187481 0.08587759]]\n",
      "\n",
      "Dot Product (dot):\n",
      "[[0.79132155 0.46458682 0.38105376]\n",
      " [0.90899244 0.92069323 1.06792795]\n",
      " [0.89982236 0.66329244 0.68432687]]\n"
     ]
    }
   ],
   "source": [
    "import numpy as np\n",
    "\n",
    "# Creating two 3x3 matrices using random function\n",
    "matrix1 = np.random.random((3, 3))\n",
    "matrix2 = np.random.random((3, 3))\n",
    "\n",
    "# Performing the operations\n",
    "product = np.prod(matrix1)  # Product (prod) of all elements in matrix1\n",
    "multiplication = np.multiply(matrix1, matrix2)  # Element-wise multiplication\n",
    "dot_product = np.dot(matrix1, matrix2)  # Dot product\n",
    "\n",
    "# Printing the results\n",
    "print(\"Product (prod):\")\n",
    "print(product)\n",
    "print(\"\\nMultiplication (multiply):\")\n",
    "print(multiplication)\n",
    "print(\"\\nDot Product (dot):\")\n",
    "print(dot_product)"
   ]
  },
  {
   "cell_type": "code",
   "execution_count": 7,
   "metadata": {},
   "outputs": [
    {
     "name": "stdout",
     "output_type": "stream",
     "text": [
      "Union: [ 2  3  4  6  8  9 10 12 15 18]\n",
      "Intersection: [ 6 12]\n",
      "Set Difference (arr1 - arr2): [ 2  4  8 10]\n",
      "XOR: [ 2  3  4  8  9 10 15 18]\n"
     ]
    }
   ],
   "source": [
    "import numpy as np\n",
    "\n",
    "# Input arrays\n",
    "arr1 = np.array([2, 4, 6, 8, 10, 12])\n",
    "arr2 = np.array([3, 6, 9, 12, 15, 18])\n",
    "\n",
    "# Union\n",
    "union = np.union1d(arr1, arr2)\n",
    "print(\"Union:\", union)\n",
    "\n",
    "# Intersection\n",
    "intersection = np.intersect1d(arr1, arr2)\n",
    "print(\"Intersection:\", intersection)\n",
    "\n",
    "# Set difference\n",
    "difference = np.setdiff1d(arr1, arr2)\n",
    "print(\"Set Difference (arr1 - arr2):\", difference)\n",
    "\n",
    "# XOR (exclusive OR)\n",
    "xor = np.setxor1d(arr1, arr2)\n",
    "print(\"XOR:\", xor)"
   ]
  },
  {
   "cell_type": "code",
   "execution_count": 8,
   "metadata": {},
   "outputs": [
    {
     "name": "stdout",
     "output_type": "stream",
     "text": [
      "Array: [0.12001898 0.64442408 0.33352266 0.5893706  0.24792398 0.51561245\n",
      " 0.98070647 0.36354353 0.08209573 0.13188439]\n",
      "Cumulative Sum: [0.12001898 0.76444306 1.09796573 1.68733633 1.93526031 2.45087276\n",
      " 3.43157923 3.79512275 3.87721848 4.00910287]\n",
      "Cumulative Product: [1.20018980e-01 7.73431214e-02 2.57956839e-02 1.52032176e-02\n",
      " 3.76924227e-03 1.94346823e-03 1.90597188e-03 6.92903736e-04\n",
      " 5.68844356e-05 7.50216909e-06]\n",
      "Discrete Difference (n=3): [ 1.40205587 -1.1640439   1.20642962 -0.41172952 -1.27966253  1.41797212\n",
      " -0.00447868]\n",
      "Unique Elements: [0.08209573 0.12001898 0.13188439 0.24792398 0.33352266 0.36354353\n",
      " 0.51561245 0.5893706  0.64442408 0.98070647]\n"
     ]
    }
   ],
   "source": [
    "import numpy as np\n",
    "\n",
    "# Creating a 1D array using Random function\n",
    "array = np.random.rand(10)  # Change the size as per your requirement\n",
    "print(\"Array:\", array)\n",
    "\n",
    "# Cumulative sum\n",
    "cumulative_sum = np.cumsum(array)\n",
    "print(\"Cumulative Sum:\", cumulative_sum)\n",
    "\n",
    "# Cumulative product\n",
    "cumulative_product = np.cumprod(array)\n",
    "print(\"Cumulative Product:\", cumulative_product)\n",
    "\n",
    "# Discrete difference with n=3\n",
    "discrete_difference = np.diff(array, n=3)\n",
    "print(\"Discrete Difference (n=3):\", discrete_difference)\n",
    "\n",
    "# Find unique elements from the array\n",
    "unique_elements = np.unique(array)\n",
    "print(\"Unique Elements:\", unique_elements)"
   ]
  },
  {
   "cell_type": "code",
   "execution_count": 9,
   "metadata": {},
   "outputs": [
    {
     "name": "stdout",
     "output_type": "stream",
     "text": [
      "Addition using zip(): [7, 9, 11, 13, 15]\n",
      "Addition using np.add(): [ 7  9 11 13 15]\n",
      "Addition using np.frompyfunc(): [7 9 11 13 15]\n"
     ]
    }
   ],
   "source": [
    "import numpy as np\n",
    "\n",
    "# Creating two 1D arrays\n",
    "arr1 = np.array([1, 2, 3, 4, 5])\n",
    "arr2 = np.array([6, 7, 8, 9, 10])\n",
    "\n",
    "# Addition using zip()\n",
    "result_zip = [x + y for x, y in zip(arr1, arr2)]\n",
    "print(\"Addition using zip():\", result_zip)\n",
    "\n",
    "# Addition using np.add()\n",
    "result_np_add = np.add(arr1, arr2)\n",
    "print(\"Addition using np.add():\", result_np_add)\n",
    "\n",
    "# Addition using np.frompyfunc()\n",
    "add_func = np.frompyfunc(lambda x, y: x + y, 2, 1)\n",
    "result_frompyfunc = add_func(arr1, arr2)\n",
    "print(\"Addition using np.frompyfunc():\", result_frompyfunc)"
   ]
  },
  {
   "cell_type": "code",
   "execution_count": 12,
   "metadata": {},
   "outputs": [
    {
     "name": "stdout",
     "output_type": "stream",
     "text": [
      "LCM of all elements in the array is:  1260\n",
      "GCD of all elements in the array is:  1\n"
     ]
    }
   ],
   "source": [
    "import numpy as np\n",
    "\n",
    "arr = np.array([4, 5, 7, 9, 10])\n",
    "\n",
    "x1 = np.lcm.reduce(arr)\n",
    "print(\"LCM of all elements in the array is: \", x1)\n",
    "\n",
    "x2 = np.gcd.reduce(arr)\n",
    "print(\"GCD of all elements in the array is: \", x2)"
   ]
  }
 ],
 "metadata": {
  "kernelspec": {
   "display_name": "Python 3",
   "language": "python",
   "name": "python3"
  },
  "language_info": {
   "codemirror_mode": {
    "name": "ipython",
    "version": 3
   },
   "file_extension": ".py",
   "mimetype": "text/x-python",
   "name": "python",
   "nbconvert_exporter": "python",
   "pygments_lexer": "ipython3",
   "version": "3.11.4"
  },
  "orig_nbformat": 4
 },
 "nbformat": 4,
 "nbformat_minor": 2
}
